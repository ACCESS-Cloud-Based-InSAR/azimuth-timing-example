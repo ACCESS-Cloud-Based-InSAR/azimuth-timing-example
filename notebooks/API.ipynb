{
 "cells": [
  {
   "cell_type": "code",
   "execution_count": 1,
   "id": "d1ec920e",
   "metadata": {},
   "outputs": [],
   "source": [
    "import numpy as np\n",
    "import datetime\n",
    "from s1_azimuth_time_grid import get_s1_azimuth_time_grid, get_n_closest_datetimes, get_inverse_weights_for_dates"
   ]
  },
  {
   "cell_type": "markdown",
   "id": "ff5536cb",
   "metadata": {},
   "source": [
    "Derived from: `S1-GUNW-A-R-064-tops-20210723_20210711-015000-00119W_00033N-PP-6267-v2_0_6.nc`"
   ]
  },
  {
   "cell_type": "code",
   "execution_count": 2,
   "id": "5b2720b0",
   "metadata": {},
   "outputs": [],
   "source": [
    "lon = np.linspace(-119, -114, 6)\n",
    "lat = np.linspace(36, 33, 4)\n",
    "hgt = np.array([-1500., 0., 3000.,  9000.])\n",
    "ref_time = datetime.datetime(2021, 7, 23, 1, 50, 0)"
   ]
  },
  {
   "cell_type": "code",
   "execution_count": 3,
   "id": "b9192358",
   "metadata": {},
   "outputs": [
    {
     "data": {
      "text/plain": [
       "array([[['2021-07-23T01:50:30.147', '2021-07-23T01:50:27.756'],\n",
       "        ['2021-07-23T01:50:14.114', '2021-07-23T01:50:11.661']],\n",
       "\n",
       "       [['2021-07-23T01:50:30.148', '2021-07-23T01:50:27.757'],\n",
       "        ['2021-07-23T01:50:14.114', '2021-07-23T01:50:11.662']]],\n",
       "      dtype='datetime64[ms]')"
      ]
     },
     "execution_count": 3,
     "metadata": {},
     "output_type": "execute_result"
    }
   ],
   "source": [
    "X = get_s1_azimuth_time_grid(lon, lat, hgt, ref_time)\n",
    "X[:2, :2, :2]"
   ]
  },
  {
   "cell_type": "code",
   "execution_count": 4,
   "id": "d8539627",
   "metadata": {},
   "outputs": [
    {
     "data": {
      "text/plain": [
       "[datetime.datetime(2021, 7, 23, 0, 0),\n",
       " datetime.datetime(2021, 7, 23, 6, 0),\n",
       " datetime.datetime(2021, 7, 22, 18, 0)]"
      ]
     },
     "execution_count": 4,
     "metadata": {},
     "output_type": "execute_result"
    }
   ],
   "source": [
    "dates = get_n_closest_datetimes(ref_time, 3, 6)\n",
    "dates"
   ]
  },
  {
   "cell_type": "markdown",
   "id": "c5b213bf",
   "metadata": {},
   "source": [
    "Note that 1:50 is 110 minutes from midnight and 250 minutes from 6 am.\n",
    "\n",
    "Therefore, weights at midnight should be approximately, `250 / 110 = 2.27` more than those at 6 am. Also note, since our valid window is 6 hours that we weight the last datetime to be 0."
   ]
  },
  {
   "cell_type": "code",
   "execution_count": 6,
   "id": "0ee07378",
   "metadata": {},
   "outputs": [
    {
     "name": "stdout",
     "output_type": "stream",
     "text": [
      "Weight for 2021-07-23 00:00:00 = 0.6930487499999821\n",
      "Weight for 2021-07-23 06:00:00 = 0.3069512500000179\n",
      "Weight for 2021-07-22 18:00:00 = 0.0\n"
     ]
    }
   ],
   "source": [
    "weights = get_inverse_weights_for_dates(X, dates, temporal_window_hours=6)\n",
    "for k in range(3):\n",
    "    print(f'Weight for {dates[k]} =', weights[k][0, 0, 0])"
   ]
  },
  {
   "cell_type": "markdown",
   "id": "c7a4f649",
   "metadata": {},
   "source": [
    "Confirmed as `0.3069512500000179 * 2.27 ~ 0.69304`."
   ]
  }
 ],
 "metadata": {
  "kernelspec": {
   "display_name": "azimuth-timing",
   "language": "python",
   "name": "azimuth-timing"
  },
  "language_info": {
   "codemirror_mode": {
    "name": "ipython",
    "version": 3
   },
   "file_extension": ".py",
   "mimetype": "text/x-python",
   "name": "python",
   "nbconvert_exporter": "python",
   "pygments_lexer": "ipython3",
   "version": "3.11.4"
  }
 },
 "nbformat": 4,
 "nbformat_minor": 5
}
