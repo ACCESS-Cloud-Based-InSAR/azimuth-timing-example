{
 "cells": [
  {
   "cell_type": "markdown",
   "id": "04d2d2ab",
   "metadata": {},
   "source": [
    "This should work at a model time hour, but will include in tests."
   ]
  },
  {
   "cell_type": "code",
   "execution_count": 1,
   "id": "d23a26e2",
   "metadata": {},
   "outputs": [],
   "source": [
    "import numpy as np"
   ]
  },
  {
   "cell_type": "code",
   "execution_count": 2,
   "id": "5ac604a5",
   "metadata": {},
   "outputs": [],
   "source": [
    "N = 3"
   ]
  },
  {
   "cell_type": "code",
   "execution_count": 3,
   "id": "1a46162f",
   "metadata": {},
   "outputs": [],
   "source": [
    "_model_time_step_seconds = 6 * 60 * 60"
   ]
  },
  {
   "cell_type": "code",
   "execution_count": 4,
   "id": "1352a862",
   "metadata": {},
   "outputs": [],
   "source": [
    "delta = np.timedelta64(1 , 's') * np.arange(N**2)\n",
    "delta = delta.reshape((N, N))"
   ]
  },
  {
   "cell_type": "code",
   "execution_count": 5,
   "id": "1e20ac06",
   "metadata": {},
   "outputs": [
    {
     "data": {
      "text/plain": [
       "array([['2021-01-01T07:00:00.000', '2021-01-01T07:00:01.000',\n",
       "        '2021-01-01T07:00:02.000'],\n",
       "       ['2021-01-01T07:00:03.000', '2021-01-01T07:00:04.000',\n",
       "        '2021-01-01T07:00:05.000'],\n",
       "       ['2021-01-01T07:00:06.000', '2021-01-01T07:00:07.000',\n",
       "        '2021-01-01T07:00:08.000']], dtype='datetime64[ms]')"
      ]
     },
     "execution_count": 5,
     "metadata": {},
     "output_type": "execute_result"
    }
   ],
   "source": [
    "X = np.full((N, N), np.datetime64('2021-01-01T07:00:00'), dtype='datetime64[ms]')\n",
    "X = X + delta\n",
    "X"
   ]
  },
  {
   "cell_type": "code",
   "execution_count": 6,
   "id": "308dc271",
   "metadata": {},
   "outputs": [],
   "source": [
    "date_0 = np.datetime64('2021-01-01T06:00:00')\n",
    "date_1 = np.datetime64('2021-01-01T12:00:00')\n",
    "date_2 = np.datetime64('2021-01-01T00:00:00')\n",
    "\n",
    "dates = [date_0, date_1, date_2]"
   ]
  },
  {
   "cell_type": "code",
   "execution_count": 7,
   "id": "3917d6a5",
   "metadata": {},
   "outputs": [],
   "source": [
    "wgts = [np.abs(X - date) / np.timedelta64(1, 's') for date in dates]"
   ]
  },
  {
   "cell_type": "code",
   "execution_count": 8,
   "id": "8b8f8007",
   "metadata": {},
   "outputs": [],
   "source": [
    "masks = [(wgt < _model_time_step_seconds).astype(int) for wgt in wgts] "
   ]
  },
  {
   "cell_type": "code",
   "execution_count": 9,
   "id": "175ed573",
   "metadata": {},
   "outputs": [],
   "source": [
    "wgts_masked = [wgt * mask for wgt, mask in zip(wgts, masks)]\n",
    "wgts_sum = np.sum(np.stack(wgts_masked, axis=-1), axis=-1)\n",
    "wgts_norm = [wgt / wgts_sum for wgt in wgts_masked]"
   ]
  },
  {
   "cell_type": "code",
   "execution_count": 10,
   "id": "600e665d",
   "metadata": {},
   "outputs": [
    {
     "data": {
      "text/plain": [
       "[array([[0.16666667, 0.16671296, 0.16675926],\n",
       "        [0.16680556, 0.16685185, 0.16689815],\n",
       "        [0.16694444, 0.16699074, 0.16703704]]),\n",
       " array([[0.83333333, 0.83328704, 0.83324074],\n",
       "        [0.83319444, 0.83314815, 0.83310185],\n",
       "        [0.83305556, 0.83300926, 0.83296296]]),\n",
       " array([[0., 0., 0.],\n",
       "        [0., 0., 0.],\n",
       "        [0., 0., 0.]])]"
      ]
     },
     "execution_count": 10,
     "metadata": {},
     "output_type": "execute_result"
    }
   ],
   "source": [
    "wgts_norm"
   ]
  }
 ],
 "metadata": {
  "kernelspec": {
   "display_name": "azimuth-timing",
   "language": "python",
   "name": "azimuth-timing"
  },
  "language_info": {
   "codemirror_mode": {
    "name": "ipython",
    "version": 3
   },
   "file_extension": ".py",
   "mimetype": "text/x-python",
   "name": "python",
   "nbconvert_exporter": "python",
   "pygments_lexer": "ipython3",
   "version": "3.11.4"
  }
 },
 "nbformat": 4,
 "nbformat_minor": 5
}
