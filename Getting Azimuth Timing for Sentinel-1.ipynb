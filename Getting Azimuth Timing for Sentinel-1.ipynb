{
 "cells": [
  {
   "cell_type": "code",
   "execution_count": 1,
   "id": "2119eb1e",
   "metadata": {},
   "outputs": [],
   "source": [
    "import asf_search as asf\n",
    "from RAiDER.losreader import get_orbit, read_ESA_Orbit_file\n",
    "import isce3.ext.isce3 as isce\n",
    "import xarray as xr\n",
    "from shapely.geometry import Point\n",
    "import datetime\n",
    "import numpy as np\n",
    "from hyp3lib import get_orb as fetch_orbit_file\n",
    "import pandas as pd\n",
    "from azimuth_timing import get_azimuth_timing_grid"
   ]
  },
  {
   "cell_type": "markdown",
   "id": "5a51a1dc",
   "metadata": {},
   "source": [
    "# 1 Get Lon/Lat/Height Grid"
   ]
  },
  {
   "cell_type": "code",
   "execution_count": 2,
   "id": "25535f4c",
   "metadata": {},
   "outputs": [
    {
     "data": {
      "text/plain": [
       "array([35.75, 35.65, 35.55, 35.45, 35.35, 35.25, 35.15, 35.05, 34.95,\n",
       "       34.85, 34.75, 34.65, 34.55, 34.45, 34.35, 34.25, 34.15, 34.05,\n",
       "       33.95, 33.85, 33.75, 33.65, 33.55, 33.45, 33.35, 33.25])"
      ]
     },
     "execution_count": 2,
     "metadata": {},
     "output_type": "execute_result"
    }
   ],
   "source": [
    "gunw_path = 'S1-GUNW-A-R-064-tops-20210723_20210711-015000-00119W_00033N-PP-6267-v2_0_6.nc'\n",
    "group = 'science/grids/imagingGeometry'\n",
    "with xr.open_dataset(gunw_path, group=group, mode='r') as ds:\n",
    "    res_x, res_y = ds.rio.resolution()\n",
    "    # assuming ul corner centered\n",
    "    lat = ds.latitudeMeta.data - res_y / 2.\n",
    "    lon = ds.longitudeMeta.data - res_x / 2.\n",
    "    hgt = ds.heightsMeta.data\n",
    "lat"
   ]
  },
  {
   "cell_type": "code",
   "execution_count": 3,
   "id": "5bdfa101",
   "metadata": {},
   "outputs": [],
   "source": [
    "group = 'science/radarMetaData/inputSLC'\n",
    "with xr.open_dataset(gunw_path, group=f'{group}/reference') as ds:\n",
    "    slc_ids = ds['L1InputGranules'].data\n",
    "    # Ensure non-empty and sorted by acq_time\n",
    "    slc_ids = sorted(list(filter(lambda x: x, slc_ids)))\n",
    "    #slc_start_time = get_start_time_from_slc_id(slc_ids[0])"
   ]
  },
  {
   "cell_type": "code",
   "execution_count": 4,
   "id": "015ba773",
   "metadata": {},
   "outputs": [
    {
     "data": {
      "text/plain": [
       "['S1B_IW_SLC__1SDV_20210723T014947_20210723T015014_027915_0354B4_B3A9.zip']"
      ]
     },
     "execution_count": 4,
     "metadata": {},
     "output_type": "execute_result"
    }
   ],
   "source": [
    "slc_ids"
   ]
  },
  {
   "cell_type": "markdown",
   "id": "6e475944",
   "metadata": {},
   "source": [
    "# 2 Get orbit file from *time* and *center pos*"
   ]
  },
  {
   "cell_type": "markdown",
   "id": "519e0274",
   "metadata": {},
   "source": [
    "## Get SLC id"
   ]
  },
  {
   "cell_type": "code",
   "execution_count": 5,
   "id": "0fce7cbe",
   "metadata": {},
   "outputs": [],
   "source": [
    "lat_center = np.mean(lat)\n",
    "lon_center = np.mean(lon)\n",
    "buffer_seconds = 60\n",
    "time_center = datetime.datetime(2021, 7, 23, 1, 50, 0)\n",
    "time_delta = datetime.timedelta(seconds=buffer_seconds)\n",
    "\n",
    "\n",
    "point = Point(lon_center, lat_center)\n",
    "results = asf.geo_search(intersectsWith=point.wkt,\n",
    "                         processingLevel=asf.PRODUCT_TYPE.SLC,\n",
    "                         start=time_center - time_delta,\n",
    "                         end=time_center + time_delta,\n",
    "                         maxResults=5\n",
    "                        )"
   ]
  },
  {
   "cell_type": "code",
   "execution_count": 6,
   "id": "865d0c71",
   "metadata": {},
   "outputs": [],
   "source": [
    "slc_id = results[0].properties['sceneName']"
   ]
  },
  {
   "cell_type": "markdown",
   "id": "b1d07ec1",
   "metadata": {},
   "source": [
    "## Get Orbit File"
   ]
  },
  {
   "cell_type": "code",
   "execution_count": 7,
   "id": "0184ec0a",
   "metadata": {},
   "outputs": [
    {
     "data": {
      "text/plain": [
       "'S1B_OPER_AUX_POEORB_OPOD_20210812T111941_V20210722T225942_20210724T005942.EOF'"
      ]
     },
     "execution_count": 7,
     "metadata": {},
     "output_type": "execute_result"
    }
   ],
   "source": [
    "orb_file, _ = fetch_orbit_file.downloadSentinelOrbitFile(slc_id)\n",
    "orb_file"
   ]
  },
  {
   "cell_type": "markdown",
   "id": "20be7ff6",
   "metadata": {},
   "source": [
    "# 3 Generate Azimuth Timing"
   ]
  },
  {
   "cell_type": "code",
   "execution_count": 8,
   "id": "898c3685",
   "metadata": {},
   "outputs": [
    {
     "data": {
      "text/plain": [
       "<isce3.ext.isce3.core.Orbit at 0x1abc27cf0>"
      ]
     },
     "execution_count": 8,
     "metadata": {},
     "output_type": "execute_result"
    }
   ],
   "source": [
    "orb = get_orbit(orb_file, time_center, pad=600)\n",
    "orb"
   ]
  },
  {
   "cell_type": "code",
   "execution_count": 9,
   "id": "41456679",
   "metadata": {},
   "outputs": [
    {
     "data": {
      "text/plain": [
       "array([[['2021-07-23T01:50:26.758', '2021-07-23T01:50:26.509',\n",
       "         '2021-07-23T01:50:26.261', ..., '2021-07-23T01:50:18.975',\n",
       "         '2021-07-23T01:50:18.768', '2021-07-23T01:50:18.562'],\n",
       "        ['2021-07-23T01:50:25.156', '2021-07-23T01:50:24.906',\n",
       "         '2021-07-23T01:50:24.657', ..., '2021-07-23T01:50:17.351',\n",
       "         '2021-07-23T01:50:17.144', '2021-07-23T01:50:16.937'],\n",
       "        ['2021-07-23T01:50:23.554', '2021-07-23T01:50:23.303',\n",
       "         '2021-07-23T01:50:23.054', ..., '2021-07-23T01:50:15.728',\n",
       "         '2021-07-23T01:50:15.519', '2021-07-23T01:50:15.312'],\n",
       "        ...,\n",
       "        ['2021-07-23T01:49:49.954', '2021-07-23T01:49:49.692',\n",
       "         '2021-07-23T01:49:49.430', ..., '2021-07-23T01:49:41.688',\n",
       "         '2021-07-23T01:49:41.466', '2021-07-23T01:49:41.245'],\n",
       "        ['2021-07-23T01:49:48.356', '2021-07-23T01:49:48.093',\n",
       "         '2021-07-23T01:49:47.831', ..., '2021-07-23T01:49:40.069',\n",
       "         '2021-07-23T01:49:39.847', '2021-07-23T01:49:39.625'],\n",
       "        ['2021-07-23T01:49:46.759', '2021-07-23T01:49:46.495',\n",
       "         '2021-07-23T01:49:46.232', ..., '2021-07-23T01:49:38.451',\n",
       "         '2021-07-23T01:49:38.228', '2021-07-23T01:49:38.005']],\n",
       "\n",
       "       [['2021-07-23T01:50:26.758', '2021-07-23T01:50:26.509',\n",
       "         '2021-07-23T01:50:26.261', ..., '2021-07-23T01:50:18.976',\n",
       "         '2021-07-23T01:50:18.768', '2021-07-23T01:50:18.562'],\n",
       "        ['2021-07-23T01:50:25.156', '2021-07-23T01:50:24.906',\n",
       "         '2021-07-23T01:50:24.657', ..., '2021-07-23T01:50:17.352',\n",
       "         '2021-07-23T01:50:17.144', '2021-07-23T01:50:16.937'],\n",
       "        ['2021-07-23T01:50:23.554', '2021-07-23T01:50:23.303',\n",
       "         '2021-07-23T01:50:23.054', ..., '2021-07-23T01:50:15.728',\n",
       "         '2021-07-23T01:50:15.520', '2021-07-23T01:50:15.312'],\n",
       "        ...,\n",
       "        ['2021-07-23T01:49:49.955', '2021-07-23T01:49:49.692',\n",
       "         '2021-07-23T01:49:49.430', ..., '2021-07-23T01:49:41.688',\n",
       "         '2021-07-23T01:49:41.466', '2021-07-23T01:49:41.245'],\n",
       "        ['2021-07-23T01:49:48.357', '2021-07-23T01:49:48.093',\n",
       "         '2021-07-23T01:49:47.831', ..., '2021-07-23T01:49:40.070',\n",
       "         '2021-07-23T01:49:39.847', '2021-07-23T01:49:39.625'],\n",
       "        ['2021-07-23T01:49:46.759', '2021-07-23T01:49:46.495',\n",
       "         '2021-07-23T01:49:46.232', ..., '2021-07-23T01:49:38.452',\n",
       "         '2021-07-23T01:49:38.228', '2021-07-23T01:49:38.006']],\n",
       "\n",
       "       [['2021-07-23T01:50:26.759', '2021-07-23T01:50:26.510',\n",
       "         '2021-07-23T01:50:26.262', ..., '2021-07-23T01:50:18.976',\n",
       "         '2021-07-23T01:50:18.769', '2021-07-23T01:50:18.563'],\n",
       "        ['2021-07-23T01:50:25.157', '2021-07-23T01:50:24.907',\n",
       "         '2021-07-23T01:50:24.658', ..., '2021-07-23T01:50:17.353',\n",
       "         '2021-07-23T01:50:17.145', '2021-07-23T01:50:16.938'],\n",
       "        ['2021-07-23T01:50:23.555', '2021-07-23T01:50:23.304',\n",
       "         '2021-07-23T01:50:23.055', ..., '2021-07-23T01:50:15.729',\n",
       "         '2021-07-23T01:50:15.521', '2021-07-23T01:50:15.313'],\n",
       "        ...,\n",
       "        ['2021-07-23T01:49:49.955', '2021-07-23T01:49:49.693',\n",
       "         '2021-07-23T01:49:49.431', ..., '2021-07-23T01:49:41.689',\n",
       "         '2021-07-23T01:49:41.467', '2021-07-23T01:49:41.246'],\n",
       "        ['2021-07-23T01:49:48.357', '2021-07-23T01:49:48.094',\n",
       "         '2021-07-23T01:49:47.832', ..., '2021-07-23T01:49:40.070',\n",
       "         '2021-07-23T01:49:39.848', '2021-07-23T01:49:39.626'],\n",
       "        ['2021-07-23T01:49:46.760', '2021-07-23T01:49:46.496',\n",
       "         '2021-07-23T01:49:46.233', ..., '2021-07-23T01:49:38.452',\n",
       "         '2021-07-23T01:49:38.229', '2021-07-23T01:49:38.006']],\n",
       "\n",
       "       [['2021-07-23T01:50:26.760', '2021-07-23T01:50:26.511',\n",
       "         '2021-07-23T01:50:26.263', ..., '2021-07-23T01:50:18.978',\n",
       "         '2021-07-23T01:50:18.770', '2021-07-23T01:50:18.564'],\n",
       "        ['2021-07-23T01:50:25.158', '2021-07-23T01:50:24.908',\n",
       "         '2021-07-23T01:50:24.660', ..., '2021-07-23T01:50:17.354',\n",
       "         '2021-07-23T01:50:17.146', '2021-07-23T01:50:16.939'],\n",
       "        ['2021-07-23T01:50:23.556', '2021-07-23T01:50:23.306',\n",
       "         '2021-07-23T01:50:23.056', ..., '2021-07-23T01:50:15.731',\n",
       "         '2021-07-23T01:50:15.522', '2021-07-23T01:50:15.315'],\n",
       "        ...,\n",
       "        ['2021-07-23T01:49:49.957', '2021-07-23T01:49:49.694',\n",
       "         '2021-07-23T01:49:49.432', ..., '2021-07-23T01:49:41.690',\n",
       "         '2021-07-23T01:49:41.468', '2021-07-23T01:49:41.247'],\n",
       "        ['2021-07-23T01:49:48.359', '2021-07-23T01:49:48.095',\n",
       "         '2021-07-23T01:49:47.833', ..., '2021-07-23T01:49:40.072',\n",
       "         '2021-07-23T01:49:39.849', '2021-07-23T01:49:39.627'],\n",
       "        ['2021-07-23T01:49:46.761', '2021-07-23T01:49:46.497',\n",
       "         '2021-07-23T01:49:46.234', ..., '2021-07-23T01:49:38.454',\n",
       "         '2021-07-23T01:49:38.230', '2021-07-23T01:49:38.008']]],\n",
       "      dtype='datetime64[ms]')"
      ]
     },
     "execution_count": 9,
     "metadata": {},
     "output_type": "execute_result"
    }
   ],
   "source": [
    "X = get_azimuth_timing_grid(lon, lat, hgt, orb)\n",
    "X"
   ]
  }
 ],
 "metadata": {
  "kernelspec": {
   "display_name": "azimuth-timing",
   "language": "python",
   "name": "azimuth-timing"
  },
  "language_info": {
   "codemirror_mode": {
    "name": "ipython",
    "version": 3
   },
   "file_extension": ".py",
   "mimetype": "text/x-python",
   "name": "python",
   "nbconvert_exporter": "python",
   "pygments_lexer": "ipython3",
   "version": "3.11.4"
  }
 },
 "nbformat": 4,
 "nbformat_minor": 5
}
