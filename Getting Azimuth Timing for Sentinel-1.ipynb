{
 "cells": [
  {
   "cell_type": "code",
   "execution_count": 1,
   "id": "2119eb1e",
   "metadata": {},
   "outputs": [],
   "source": [
    "import asf_search as asf\n",
    "from RAiDER.losreader import get_orbit, read_ESA_Orbit_file\n",
    "import isce3.ext.isce3 as isce\n",
    "import xarray as xr\n",
    "from shapely.geometry import Point\n",
    "import datetime\n",
    "import numpy as np\n",
    "from hyp3lib import get_orb as fetch_orbit_file\n",
    "import pandas as pd\n",
    "from azimuth_timing import get_azimuth_timing_grid"
   ]
  },
  {
   "cell_type": "markdown",
   "id": "5a51a1dc",
   "metadata": {},
   "source": [
    "# 1 Get Lon/Lat/Height Grid"
   ]
  },
  {
   "cell_type": "code",
   "execution_count": 2,
   "id": "25535f4c",
   "metadata": {},
   "outputs": [
    {
     "data": {
      "text/plain": [
       "array([35.75, 35.65, 35.55, 35.45, 35.35, 35.25, 35.15, 35.05, 34.95,\n",
       "       34.85, 34.75, 34.65, 34.55, 34.45, 34.35, 34.25, 34.15, 34.05,\n",
       "       33.95, 33.85, 33.75, 33.65, 33.55, 33.45, 33.35, 33.25])"
      ]
     },
     "execution_count": 2,
     "metadata": {},
     "output_type": "execute_result"
    }
   ],
   "source": [
    "gunw_path = 'S1-GUNW-A-R-064-tops-20210723_20210711-015000-00119W_00033N-PP-6267-v2_0_6.nc'\n",
    "group = 'science/grids/imagingGeometry'\n",
    "with xr.open_dataset(gunw_path, group=group, mode='r') as ds:\n",
    "    res_x, res_y = ds.rio.resolution()\n",
    "    # assuming ul corner centered\n",
    "    lat = ds.latitudeMeta.data - res_y / 2.\n",
    "    lon = ds.longitudeMeta.data - res_x / 2.\n",
    "    hgt = ds.heightsMeta.data\n",
    "lat"
   ]
  },
  {
   "cell_type": "code",
   "execution_count": 3,
   "id": "0a120f8d",
   "metadata": {},
   "outputs": [],
   "source": [
    "group = 'science/radarMetaData/inputSLC'\n",
    "with xr.open_dataset(gunw_path, group=f'{group}/reference') as ds:\n",
    "    slc_ids = ds['L1InputGranules'].data\n",
    "    # Ensure non-empty and sorted by acq_time\n",
    "    slc_ids = sorted(list(filter(lambda x: x, slc_ids)))\n",
    "    #slc_start_time = get_start_time_from_slc_id(slc_ids[0])"
   ]
  },
  {
   "cell_type": "code",
   "execution_count": 5,
   "id": "264e0131",
   "metadata": {},
   "outputs": [
    {
     "data": {
      "text/plain": [
       "['S1B_IW_SLC__1SDV_20210723T014947_20210723T015014_027915_0354B4_B3A9.zip']"
      ]
     },
     "execution_count": 5,
     "metadata": {},
     "output_type": "execute_result"
    }
   ],
   "source": [
    "slc_ids"
   ]
  },
  {
   "cell_type": "markdown",
   "id": "6e475944",
   "metadata": {},
   "source": [
    "# 2 Get orbit file from *time* and *center pos*"
   ]
  },
  {
   "cell_type": "markdown",
   "id": "90479750",
   "metadata": {},
   "source": [
    "## Get SLC id"
   ]
  },
  {
   "cell_type": "code",
   "execution_count": 6,
   "id": "0fce7cbe",
   "metadata": {},
   "outputs": [],
   "source": [
    "lat_center = np.mean(lat)\n",
    "lon_center = np.mean(lon)\n",
    "buffer_seconds = 60\n",
    "time_center = datetime.datetime(2021, 7, 23, 1, 50, 0)\n",
    "time_delta = datetime.timedelta(seconds=buffer_seconds)\n",
    "\n",
    "\n",
    "point = Point(lon_center, lat_center)\n",
    "results = asf.geo_search(intersectsWith=point.wkt,\n",
    "                         processingLevel=asf.PRODUCT_TYPE.SLC,\n",
    "                         start=time_center - time_delta,\n",
    "                         end=time_center + time_delta,\n",
    "                         maxResults=5\n",
    "                        )"
   ]
  },
  {
   "cell_type": "code",
   "execution_count": 7,
   "id": "865d0c71",
   "metadata": {},
   "outputs": [],
   "source": [
    "slc_id = results[0].properties['sceneName']"
   ]
  },
  {
   "cell_type": "markdown",
   "id": "956b3076",
   "metadata": {},
   "source": [
    "## Get Orbit File"
   ]
  },
  {
   "cell_type": "code",
   "execution_count": 8,
   "id": "a353b342",
   "metadata": {},
   "outputs": [
    {
     "name": "stderr",
     "output_type": "stream",
     "text": [
      "WARNING:root:Error encountered fetching AUX_POEORB orbit file from ESA; looking for another\n",
      "WARNING:root:Error encountered fetching AUX_POEORB orbit file from ASF; looking for another\n"
     ]
    },
    {
     "data": {
      "text/plain": [
       "'S1B_OPER_AUX_RESORB_OPOD_20210723T045406_V20210723T000156_20210723T031926.EOF'"
      ]
     },
     "execution_count": 8,
     "metadata": {},
     "output_type": "execute_result"
    }
   ],
   "source": [
    "orb_file, _ = fetch_orbit_file.downloadSentinelOrbitFile(slc_id)\n",
    "orb_file"
   ]
  },
  {
   "cell_type": "markdown",
   "id": "20be7ff6",
   "metadata": {},
   "source": [
    "# 3 Generate Azimuth Timing"
   ]
  },
  {
   "cell_type": "code",
   "execution_count": 9,
   "id": "898c3685",
   "metadata": {},
   "outputs": [
    {
     "data": {
      "text/plain": [
       "<isce3.ext.isce3.core.Orbit at 0x1a8306af0>"
      ]
     },
     "execution_count": 9,
     "metadata": {},
     "output_type": "execute_result"
    }
   ],
   "source": [
    "orb = get_orbit(orb_file, time_center, pad=600)\n",
    "orb"
   ]
  },
  {
   "cell_type": "code",
   "execution_count": 10,
   "id": "e29bb25d",
   "metadata": {},
   "outputs": [
    {
     "data": {
      "text/plain": [
       "array([[['2021-07-23T01:50:26', '2021-07-23T01:50:26',\n",
       "         '2021-07-23T01:50:26', ..., '2021-07-23T01:50:18',\n",
       "         '2021-07-23T01:50:18', '2021-07-23T01:50:18'],\n",
       "        ['2021-07-23T01:50:25', '2021-07-23T01:50:24',\n",
       "         '2021-07-23T01:50:24', ..., '2021-07-23T01:50:17',\n",
       "         '2021-07-23T01:50:17', '2021-07-23T01:50:16'],\n",
       "        ['2021-07-23T01:50:23', '2021-07-23T01:50:23',\n",
       "         '2021-07-23T01:50:23', ..., '2021-07-23T01:50:15',\n",
       "         '2021-07-23T01:50:15', '2021-07-23T01:50:15'],\n",
       "        ...,\n",
       "        ['2021-07-23T01:49:49', '2021-07-23T01:49:49',\n",
       "         '2021-07-23T01:49:49', ..., '2021-07-23T01:49:41',\n",
       "         '2021-07-23T01:49:41', '2021-07-23T01:49:41'],\n",
       "        ['2021-07-23T01:49:48', '2021-07-23T01:49:48',\n",
       "         '2021-07-23T01:49:47', ..., '2021-07-23T01:49:40',\n",
       "         '2021-07-23T01:49:39', '2021-07-23T01:49:39'],\n",
       "        ['2021-07-23T01:49:46', '2021-07-23T01:49:46',\n",
       "         '2021-07-23T01:49:46', ..., '2021-07-23T01:49:38',\n",
       "         '2021-07-23T01:49:38', '2021-07-23T01:49:38']],\n",
       "\n",
       "       [['2021-07-23T01:50:26', '2021-07-23T01:50:26',\n",
       "         '2021-07-23T01:50:26', ..., '2021-07-23T01:50:18',\n",
       "         '2021-07-23T01:50:18', '2021-07-23T01:50:18'],\n",
       "        ['2021-07-23T01:50:25', '2021-07-23T01:50:24',\n",
       "         '2021-07-23T01:50:24', ..., '2021-07-23T01:50:17',\n",
       "         '2021-07-23T01:50:17', '2021-07-23T01:50:16'],\n",
       "        ['2021-07-23T01:50:23', '2021-07-23T01:50:23',\n",
       "         '2021-07-23T01:50:23', ..., '2021-07-23T01:50:15',\n",
       "         '2021-07-23T01:50:15', '2021-07-23T01:50:15'],\n",
       "        ...,\n",
       "        ['2021-07-23T01:49:49', '2021-07-23T01:49:49',\n",
       "         '2021-07-23T01:49:49', ..., '2021-07-23T01:49:41',\n",
       "         '2021-07-23T01:49:41', '2021-07-23T01:49:41'],\n",
       "        ['2021-07-23T01:49:48', '2021-07-23T01:49:48',\n",
       "         '2021-07-23T01:49:47', ..., '2021-07-23T01:49:40',\n",
       "         '2021-07-23T01:49:39', '2021-07-23T01:49:39'],\n",
       "        ['2021-07-23T01:49:46', '2021-07-23T01:49:46',\n",
       "         '2021-07-23T01:49:46', ..., '2021-07-23T01:49:38',\n",
       "         '2021-07-23T01:49:38', '2021-07-23T01:49:38']],\n",
       "\n",
       "       [['2021-07-23T01:50:26', '2021-07-23T01:50:26',\n",
       "         '2021-07-23T01:50:26', ..., '2021-07-23T01:50:18',\n",
       "         '2021-07-23T01:50:18', '2021-07-23T01:50:18'],\n",
       "        ['2021-07-23T01:50:25', '2021-07-23T01:50:24',\n",
       "         '2021-07-23T01:50:24', ..., '2021-07-23T01:50:17',\n",
       "         '2021-07-23T01:50:17', '2021-07-23T01:50:16'],\n",
       "        ['2021-07-23T01:50:23', '2021-07-23T01:50:23',\n",
       "         '2021-07-23T01:50:23', ..., '2021-07-23T01:50:15',\n",
       "         '2021-07-23T01:50:15', '2021-07-23T01:50:15'],\n",
       "        ...,\n",
       "        ['2021-07-23T01:49:49', '2021-07-23T01:49:49',\n",
       "         '2021-07-23T01:49:49', ..., '2021-07-23T01:49:41',\n",
       "         '2021-07-23T01:49:41', '2021-07-23T01:49:41'],\n",
       "        ['2021-07-23T01:49:48', '2021-07-23T01:49:48',\n",
       "         '2021-07-23T01:49:47', ..., '2021-07-23T01:49:40',\n",
       "         '2021-07-23T01:49:39', '2021-07-23T01:49:39'],\n",
       "        ['2021-07-23T01:49:46', '2021-07-23T01:49:46',\n",
       "         '2021-07-23T01:49:46', ..., '2021-07-23T01:49:38',\n",
       "         '2021-07-23T01:49:38', '2021-07-23T01:49:38']],\n",
       "\n",
       "       [['2021-07-23T01:50:26', '2021-07-23T01:50:26',\n",
       "         '2021-07-23T01:50:26', ..., '2021-07-23T01:50:18',\n",
       "         '2021-07-23T01:50:18', '2021-07-23T01:50:18'],\n",
       "        ['2021-07-23T01:50:25', '2021-07-23T01:50:24',\n",
       "         '2021-07-23T01:50:24', ..., '2021-07-23T01:50:17',\n",
       "         '2021-07-23T01:50:17', '2021-07-23T01:50:16'],\n",
       "        ['2021-07-23T01:50:23', '2021-07-23T01:50:23',\n",
       "         '2021-07-23T01:50:23', ..., '2021-07-23T01:50:15',\n",
       "         '2021-07-23T01:50:15', '2021-07-23T01:50:15'],\n",
       "        ...,\n",
       "        ['2021-07-23T01:49:49', '2021-07-23T01:49:49',\n",
       "         '2021-07-23T01:49:49', ..., '2021-07-23T01:49:41',\n",
       "         '2021-07-23T01:49:41', '2021-07-23T01:49:41'],\n",
       "        ['2021-07-23T01:49:48', '2021-07-23T01:49:48',\n",
       "         '2021-07-23T01:49:47', ..., '2021-07-23T01:49:40',\n",
       "         '2021-07-23T01:49:39', '2021-07-23T01:49:39'],\n",
       "        ['2021-07-23T01:49:46', '2021-07-23T01:49:46',\n",
       "         '2021-07-23T01:49:46', ..., '2021-07-23T01:49:38',\n",
       "         '2021-07-23T01:49:38', '2021-07-23T01:49:38']]],\n",
       "      dtype='datetime64[s]')"
      ]
     },
     "execution_count": 10,
     "metadata": {},
     "output_type": "execute_result"
    }
   ],
   "source": [
    "X = get_azimuth_timing_grid(lon, lat, hgt, orb)\n",
    "X"
   ]
  }
 ],
 "metadata": {
  "kernelspec": {
   "display_name": "azimuth-timing",
   "language": "python",
   "name": "azimuth-timing"
  },
  "language_info": {
   "codemirror_mode": {
    "name": "ipython",
    "version": 3
   },
   "file_extension": ".py",
   "mimetype": "text/x-python",
   "name": "python",
   "nbconvert_exporter": "python",
   "pygments_lexer": "ipython3",
   "version": "3.11.4"
  }
 },
 "nbformat": 4,
 "nbformat_minor": 5
}
