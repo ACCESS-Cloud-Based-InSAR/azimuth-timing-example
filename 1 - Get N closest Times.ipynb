{
 "cells": [
  {
   "cell_type": "code",
   "execution_count": 1,
   "id": "7c321a2e",
   "metadata": {},
   "outputs": [],
   "source": [
    "import pandas as pd\n",
    "import datetime"
   ]
  },
  {
   "cell_type": "markdown",
   "id": "f7366b4b",
   "metadata": {},
   "source": [
    "# Input"
   ]
  },
  {
   "cell_type": "code",
   "execution_count": 2,
   "id": "8a9878e9",
   "metadata": {},
   "outputs": [],
   "source": [
    "dt = datetime.datetime(2021, 7, 23, 5, 50, 0)"
   ]
  },
  {
   "cell_type": "markdown",
   "id": "b0f6ce63",
   "metadata": {},
   "source": [
    "# Parameters"
   ]
  },
  {
   "cell_type": "code",
   "execution_count": 3,
   "id": "b372ba46",
   "metadata": {},
   "outputs": [],
   "source": [
    "round_to = 6\n",
    "n = 3"
   ]
  },
  {
   "cell_type": "markdown",
   "id": "c4be7a70",
   "metadata": {},
   "source": [
    "# Setup"
   ]
  },
  {
   "cell_type": "code",
   "execution_count": 4,
   "id": "56a41890",
   "metadata": {},
   "outputs": [
    {
     "data": {
      "text/plain": [
       "2"
      ]
     },
     "execution_count": 4,
     "metadata": {},
     "output_type": "execute_result"
    }
   ],
   "source": [
    "# Built in ceiling for integers\n",
    "iterations = n // 2 + (n % 2)\n",
    "iterations"
   ]
  },
  {
   "cell_type": "code",
   "execution_count": 5,
   "id": "29fce808",
   "metadata": {},
   "outputs": [],
   "source": [
    "closest_times = []\n",
    "ts = pd.Timestamp(dt)\n",
    "for k in range(n):\n",
    "    ts_0 = pd.Timestamp(dt) - pd.Timedelta(hours=(round_to * k))\n",
    "    ts_1 = pd.Timestamp(dt) + pd.Timedelta(hours=(round_to * k))\n",
    "    \n",
    "    t_ceil = ts_0.floor(f'{round_to}H')\n",
    "    t_floor = ts_1.ceil(f'{round_to}H')\n",
    "    \n",
    "    closest_times.extend([t_ceil, t_floor])\n",
    "closest_times = sorted(closest_times, key = lambda ts_rounded: abs(ts - ts_rounded))\n",
    "closest_times = [t.to_pydatetime() for t in closest_times]\n",
    "closest_times = closest_times[:n]"
   ]
  },
  {
   "cell_type": "code",
   "execution_count": 6,
   "id": "faab9d7b",
   "metadata": {},
   "outputs": [
    {
     "data": {
      "text/plain": [
       "[datetime.datetime(2021, 7, 23, 6, 0),\n",
       " datetime.datetime(2021, 7, 23, 0, 0),\n",
       " datetime.datetime(2021, 7, 23, 12, 0)]"
      ]
     },
     "execution_count": 6,
     "metadata": {},
     "output_type": "execute_result"
    }
   ],
   "source": [
    "closest_times"
   ]
  }
 ],
 "metadata": {
  "kernelspec": {
   "display_name": "azimuth-timing",
   "language": "python",
   "name": "azimuth-timing"
  },
  "language_info": {
   "codemirror_mode": {
    "name": "ipython",
    "version": 3
   },
   "file_extension": ".py",
   "mimetype": "text/x-python",
   "name": "python",
   "nbconvert_exporter": "python",
   "pygments_lexer": "ipython3",
   "version": "3.11.4"
  }
 },
 "nbformat": 4,
 "nbformat_minor": 5
}
